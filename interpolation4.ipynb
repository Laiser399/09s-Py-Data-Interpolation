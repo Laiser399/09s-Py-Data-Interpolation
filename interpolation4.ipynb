{
 "cells": [
  {
   "cell_type": "code",
   "execution_count": 1,
   "outputs": [],
   "source": [
    "from LagrangeInterpolator import LagrangeInterpolator\n",
    "from common import make_plot, compare_errors"
   ],
   "metadata": {
    "collapsed": false,
    "pycharm": {
     "name": "#%%\n"
    }
   }
  },
  {
   "cell_type": "code",
   "execution_count": 2,
   "metadata": {
    "collapsed": true
   },
   "outputs": [],
   "source": [
    "n = 4\n",
    "from const import a, b, x, f\n",
    "\n",
    "interpolator = LagrangeInterpolator(n, a, b, f, x)"
   ]
  },
  {
   "cell_type": "code",
   "execution_count": 3,
   "outputs": [
    {
     "data": {
      "text/plain": "[1, 9/4, 7/2, 19/4, 6]"
     },
     "execution_count": 3,
     "metadata": {},
     "output_type": "execute_result"
    }
   ],
   "source": [
    "interpolator.x_arr"
   ],
   "metadata": {
    "collapsed": false,
    "pycharm": {
     "name": "#%%\n"
    }
   }
  },
  {
   "cell_type": "code",
   "execution_count": 4,
   "outputs": [
    {
     "data": {
      "text/plain": "[sin(1), sin(9/4), sin(7/2), sin(19/4), sin(6)]"
     },
     "execution_count": 4,
     "metadata": {},
     "output_type": "execute_result"
    }
   ],
   "source": [
    "interpolator.y_arr"
   ],
   "metadata": {
    "collapsed": false,
    "pycharm": {
     "name": "#%%\n"
    }
   }
  },
  {
   "cell_type": "code",
   "execution_count": 5,
   "outputs": [
    {
     "data": {
      "text/plain": "(6/5 - x/5)*(19/15 - 4*x/15)*(7/5 - 2*x/5)*(9/5 - 4*x/5)*sin(1) + (8/5 - 4*x/15)*(19/10 - 2*x/5)*(14/5 - 4*x/5)*(4*x/5 - 4/5)*sin(9/4) + (12/5 - 2*x/5)*(19/5 - 4*x/5)*(2*x/5 - 2/5)*(4*x/5 - 9/5)*sin(7/2) + (24/5 - 4*x/5)*(4*x/15 - 4/15)*(2*x/5 - 9/10)*(4*x/5 - 14/5)*sin(19/4) + (x/5 - 1/5)*(4*x/15 - 3/5)*(2*x/5 - 7/5)*(4*x/5 - 19/5)*sin(6)",
      "text/latex": "$\\displaystyle \\left(\\frac{6}{5} - \\frac{x}{5}\\right) \\left(\\frac{19}{15} - \\frac{4 x}{15}\\right) \\left(\\frac{7}{5} - \\frac{2 x}{5}\\right) \\left(\\frac{9}{5} - \\frac{4 x}{5}\\right) \\sin{\\left(1 \\right)} + \\left(\\frac{8}{5} - \\frac{4 x}{15}\\right) \\left(\\frac{19}{10} - \\frac{2 x}{5}\\right) \\left(\\frac{14}{5} - \\frac{4 x}{5}\\right) \\left(\\frac{4 x}{5} - \\frac{4}{5}\\right) \\sin{\\left(\\frac{9}{4} \\right)} + \\left(\\frac{12}{5} - \\frac{2 x}{5}\\right) \\left(\\frac{19}{5} - \\frac{4 x}{5}\\right) \\left(\\frac{2 x}{5} - \\frac{2}{5}\\right) \\left(\\frac{4 x}{5} - \\frac{9}{5}\\right) \\sin{\\left(\\frac{7}{2} \\right)} + \\left(\\frac{24}{5} - \\frac{4 x}{5}\\right) \\left(\\frac{4 x}{15} - \\frac{4}{15}\\right) \\left(\\frac{2 x}{5} - \\frac{9}{10}\\right) \\left(\\frac{4 x}{5} - \\frac{14}{5}\\right) \\sin{\\left(\\frac{19}{4} \\right)} + \\left(\\frac{x}{5} - \\frac{1}{5}\\right) \\left(\\frac{4 x}{15} - \\frac{3}{5}\\right) \\left(\\frac{2 x}{5} - \\frac{7}{5}\\right) \\left(\\frac{4 x}{5} - \\frac{19}{5}\\right) \\sin{\\left(6 \\right)}$"
     },
     "execution_count": 5,
     "metadata": {},
     "output_type": "execute_result"
    }
   ],
   "source": [
    "interpolator.interpolation_result"
   ],
   "metadata": {
    "collapsed": false,
    "pycharm": {
     "name": "#%%\n"
    }
   }
  },
  {
   "cell_type": "code",
   "execution_count": 6,
   "outputs": [
    {
     "data": {
      "text/plain": "-0.01123*x**4 + 0.261*x**3 - 1.744*x**2 + 3.67*x - 1.334",
      "text/latex": "$\\displaystyle - 0.01123 x^{4} + 0.261 x^{3} - 1.744 x^{2} + 3.67 x - 1.334$"
     },
     "execution_count": 6,
     "metadata": {},
     "output_type": "execute_result"
    }
   ],
   "source": [
    "interpolator.interpolation_result.n(4).expand()\n"
   ],
   "metadata": {
    "collapsed": false,
    "pycharm": {
     "name": "#%%\n"
    }
   }
  },
  {
   "cell_type": "code",
   "execution_count": 7,
   "outputs": [
    {
     "data": {
      "text/plain": "<Figure size 432x288 with 1 Axes>",
      "image/png": "[encoded data removed]"
     },
     "metadata": {
      "needs_background": "light"
     },
     "output_type": "display_data"
    }
   ],
   "source": [
    "make_plot(interpolator)"
   ],
   "metadata": {
    "collapsed": false,
    "pycharm": {
     "name": "#%%\n"
    }
   }
  },
  {
   "cell_type": "code",
   "execution_count": 8,
   "outputs": [
    {
     "data": {
      "text/plain": "1",
      "text/latex": "$\\displaystyle 1$"
     },
     "execution_count": 8,
     "metadata": {},
     "output_type": "execute_result"
    }
   ],
   "source": [
    "interpolator.M_np1"
   ],
   "metadata": {
    "collapsed": false,
    "pycharm": {
     "name": "#%%\n"
    }
   }
  },
  {
   "cell_type": "code",
   "execution_count": 9,
   "outputs": [
    {
     "data": {
      "text/plain": "Abs((x - 6)*(x - 19/4)*(x - 7/2)*(x - 9/4)*(x - 1))/120",
      "text/latex": "$\\displaystyle \\frac{\\left|{\\left(x - 6\\right) \\left(x - \\frac{19}{4}\\right) \\left(x - \\frac{7}{2}\\right) \\left(x - \\frac{9}{4}\\right) \\left(x - 1\\right)}\\right|}{120}$"
     },
     "execution_count": 9,
     "metadata": {},
     "output_type": "execute_result"
    }
   ],
   "source": [
    "interpolator.max_error"
   ],
   "metadata": {
    "collapsed": false,
    "pycharm": {
     "name": "#%%\n"
    }
   }
  },
  {
   "cell_type": "code",
   "execution_count": 10,
   "outputs": [
    {
     "data": {
      "text/plain": "Abs((6/5 - x/5)*(19/15 - 4*x/15)*(7/5 - 2*x/5)*(9/5 - 4*x/5)*sin(1) + (8/5 - 4*x/15)*(19/10 - 2*x/5)*(14/5 - 4*x/5)*(4*x/5 - 4/5)*sin(9/4) + (12/5 - 2*x/5)*(19/5 - 4*x/5)*(2*x/5 - 2/5)*(4*x/5 - 9/5)*sin(7/2) + (24/5 - 4*x/5)*(4*x/15 - 4/15)*(2*x/5 - 9/10)*(4*x/5 - 14/5)*sin(19/4) + (x/5 - 1/5)*(4*x/15 - 3/5)*(2*x/5 - 7/5)*(4*x/5 - 19/5)*sin(6) - sin(x))",
      "text/latex": "$\\displaystyle \\left|{\\left(\\frac{6}{5} - \\frac{x}{5}\\right) \\left(\\frac{19}{15} - \\frac{4 x}{15}\\right) \\left(\\frac{7}{5} - \\frac{2 x}{5}\\right) \\left(\\frac{9}{5} - \\frac{4 x}{5}\\right) \\sin{\\left(1 \\right)} + \\left(\\frac{8}{5} - \\frac{4 x}{15}\\right) \\left(\\frac{19}{10} - \\frac{2 x}{5}\\right) \\left(\\frac{14}{5} - \\frac{4 x}{5}\\right) \\left(\\frac{4 x}{5} - \\frac{4}{5}\\right) \\sin{\\left(\\frac{9}{4} \\right)} + \\left(\\frac{12}{5} - \\frac{2 x}{5}\\right) \\left(\\frac{19}{5} - \\frac{4 x}{5}\\right) \\left(\\frac{2 x}{5} - \\frac{2}{5}\\right) \\left(\\frac{4 x}{5} - \\frac{9}{5}\\right) \\sin{\\left(\\frac{7}{2} \\right)} + \\left(\\frac{24}{5} - \\frac{4 x}{5}\\right) \\left(\\frac{4 x}{15} - \\frac{4}{15}\\right) \\left(\\frac{2 x}{5} - \\frac{9}{10}\\right) \\left(\\frac{4 x}{5} - \\frac{14}{5}\\right) \\sin{\\left(\\frac{19}{4} \\right)} + \\left(\\frac{x}{5} - \\frac{1}{5}\\right) \\left(\\frac{4 x}{15} - \\frac{3}{5}\\right) \\left(\\frac{2 x}{5} - \\frac{7}{5}\\right) \\left(\\frac{4 x}{5} - \\frac{19}{5}\\right) \\sin{\\left(6 \\right)} - \\sin{\\left(x \\right)}}\\right|$"
     },
     "execution_count": 10,
     "metadata": {},
     "output_type": "execute_result"
    }
   ],
   "source": [
    "interpolator.real_error"
   ],
   "metadata": {
    "collapsed": false,
    "pycharm": {
     "name": "#%%\n"
    }
   }
  },
  {
   "cell_type": "code",
   "execution_count": 11,
   "outputs": [
    {
     "data": {
      "text/plain": "True"
     },
     "execution_count": 11,
     "metadata": {},
     "output_type": "execute_result"
    }
   ],
   "source": [
    "compare_errors(f'results {n}.txt', interpolator, 1000)"
   ],
   "metadata": {
    "collapsed": false,
    "pycharm": {
     "name": "#%%\n"
    }
   }
  }
 ],
 "metadata": {
  "kernelspec": {
   "name": "pycharm-10b54cab",
   "language": "python",
   "display_name": "PyCharm (tm jup)"
  },
  "language_info": {
   "codemirror_mode": {
    "name": "ipython",
    "version": 2
   },
   "file_extension": ".py",
   "mimetype": "text/x-python",
   "name": "python",
   "nbconvert_exporter": "python",
   "pygments_lexer": "ipython2",
   "version": "2.7.6"
  }
 },
 "nbformat": 4,
 "nbformat_minor": 0
}