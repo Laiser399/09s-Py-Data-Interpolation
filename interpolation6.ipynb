{
 "cells": [
  {
   "cell_type": "code",
   "execution_count": 1,
   "outputs": [],
   "source": [
    "from LagrangeInterpolator import LagrangeInterpolator\n",
    "from common import make_plot, compare_errors"
   ],
   "metadata": {
    "collapsed": false,
    "pycharm": {
     "name": "#%%\n"
    }
   }
  },
  {
   "cell_type": "code",
   "execution_count": 2,
   "metadata": {
    "collapsed": true
   },
   "outputs": [],
   "source": [
    "n = 6\n",
    "from const import a, b, x, f\n",
    "\n",
    "interpolator = LagrangeInterpolator(n, a, b, f, x)"
   ]
  },
  {
   "cell_type": "code",
   "execution_count": 3,
   "outputs": [
    {
     "data": {
      "text/plain": "[1, 11/6, 8/3, 7/2, 13/3, 31/6, 6]"
     },
     "execution_count": 3,
     "metadata": {},
     "output_type": "execute_result"
    }
   ],
   "source": [
    "interpolator.x_arr"
   ],
   "metadata": {
    "collapsed": false,
    "pycharm": {
     "name": "#%%\n"
    }
   }
  },
  {
   "cell_type": "code",
   "execution_count": 4,
   "outputs": [
    {
     "data": {
      "text/plain": "[sin(1), sin(11/6), sin(8/3), sin(7/2), sin(13/3), sin(31/6), sin(6)]"
     },
     "execution_count": 4,
     "metadata": {},
     "output_type": "execute_result"
    }
   ],
   "source": [
    "interpolator.y_arr"
   ],
   "metadata": {
    "collapsed": false,
    "pycharm": {
     "name": "#%%\n"
    }
   }
  },
  {
   "cell_type": "code",
   "execution_count": 5,
   "outputs": [
    {
     "data": {
      "text/plain": "(6/5 - x/5)*(31/25 - 6*x/25)*(13/10 - 3*x/10)*(7/5 - 2*x/5)*(8/5 - 3*x/5)*(11/5 - 6*x/5)*sin(1) + (36/25 - 6*x/25)*(31/20 - 3*x/10)*(26/15 - 2*x/5)*(21/10 - 3*x/5)*(16/5 - 6*x/5)*(6*x/5 - 6/5)*sin(11/6) + (9/5 - 3*x/10)*(31/15 - 2*x/5)*(13/5 - 3*x/5)*(21/5 - 6*x/5)*(3*x/5 - 3/5)*(6*x/5 - 11/5)*sin(8/3) + (12/5 - 2*x/5)*(31/10 - 3*x/5)*(26/5 - 6*x/5)*(2*x/5 - 2/5)*(3*x/5 - 11/10)*(6*x/5 - 16/5)*sin(7/2) + (18/5 - 3*x/5)*(31/5 - 6*x/5)*(3*x/10 - 3/10)*(2*x/5 - 11/15)*(3*x/5 - 8/5)*(6*x/5 - 21/5)*sin(13/3) + (36/5 - 6*x/5)*(6*x/25 - 6/25)*(3*x/10 - 11/20)*(2*x/5 - 16/15)*(3*x/5 - 21/10)*(6*x/5 - 26/5)*sin(31/6) + (x/5 - 1/5)*(6*x/25 - 11/25)*(3*x/10 - 4/5)*(2*x/5 - 7/5)*(3*x/5 - 13/5)*(6*x/5 - 31/5)*sin(6)",
      "text/latex": "$\\displaystyle \\left(\\frac{6}{5} - \\frac{x}{5}\\right) \\left(\\frac{31}{25} - \\frac{6 x}{25}\\right) \\left(\\frac{13}{10} - \\frac{3 x}{10}\\right) \\left(\\frac{7}{5} - \\frac{2 x}{5}\\right) \\left(\\frac{8}{5} - \\frac{3 x}{5}\\right) \\left(\\frac{11}{5} - \\frac{6 x}{5}\\right) \\sin{\\left(1 \\right)} + \\left(\\frac{36}{25} - \\frac{6 x}{25}\\right) \\left(\\frac{31}{20} - \\frac{3 x}{10}\\right) \\left(\\frac{26}{15} - \\frac{2 x}{5}\\right) \\left(\\frac{21}{10} - \\frac{3 x}{5}\\right) \\left(\\frac{16}{5} - \\frac{6 x}{5}\\right) \\left(\\frac{6 x}{5} - \\frac{6}{5}\\right) \\sin{\\left(\\frac{11}{6} \\right)} + \\left(\\frac{9}{5} - \\frac{3 x}{10}\\right) \\left(\\frac{31}{15} - \\frac{2 x}{5}\\right) \\left(\\frac{13}{5} - \\frac{3 x}{5}\\right) \\left(\\frac{21}{5} - \\frac{6 x}{5}\\right) \\left(\\frac{3 x}{5} - \\frac{3}{5}\\right) \\left(\\frac{6 x}{5} - \\frac{11}{5}\\right) \\sin{\\left(\\frac{8}{3} \\right)} + \\left(\\frac{12}{5} - \\frac{2 x}{5}\\right) \\left(\\frac{31}{10} - \\frac{3 x}{5}\\right) \\left(\\frac{26}{5} - \\frac{6 x}{5}\\right) \\left(\\frac{2 x}{5} - \\frac{2}{5}\\right) \\left(\\frac{3 x}{5} - \\frac{11}{10}\\right) \\left(\\frac{6 x}{5} - \\frac{16}{5}\\right) \\sin{\\left(\\frac{7}{2} \\right)} + \\left(\\frac{18}{5} - \\frac{3 x}{5}\\right) \\left(\\frac{31}{5} - \\frac{6 x}{5}\\right) \\left(\\frac{3 x}{10} - \\frac{3}{10}\\right) \\left(\\frac{2 x}{5} - \\frac{11}{15}\\right) \\left(\\frac{3 x}{5} - \\frac{8}{5}\\right) \\left(\\frac{6 x}{5} - \\frac{21}{5}\\right) \\sin{\\left(\\frac{13}{3} \\right)} + \\left(\\frac{36}{5} - \\frac{6 x}{5}\\right) \\left(\\frac{6 x}{25} - \\frac{6}{25}\\right) \\left(\\frac{3 x}{10} - \\frac{11}{20}\\right) \\left(\\frac{2 x}{5} - \\frac{16}{15}\\right) \\left(\\frac{3 x}{5} - \\frac{21}{10}\\right) \\left(\\frac{6 x}{5} - \\frac{26}{5}\\right) \\sin{\\left(\\frac{31}{6} \\right)} + \\left(\\frac{x}{5} - \\frac{1}{5}\\right) \\left(\\frac{6 x}{25} - \\frac{11}{25}\\right) \\left(\\frac{3 x}{10} - \\frac{4}{5}\\right) \\left(\\frac{2 x}{5} - \\frac{7}{5}\\right) \\left(\\frac{3 x}{5} - \\frac{13}{5}\\right) \\left(\\frac{6 x}{5} - \\frac{31}{5}\\right) \\sin{\\left(6 \\right)}$"
     },
     "execution_count": 5,
     "metadata": {},
     "output_type": "execute_result"
    }
   ],
   "source": [
    "interpolator.interpolation_result"
   ],
   "metadata": {
    "collapsed": false,
    "pycharm": {
     "name": "#%%\n"
    }
   }
  },
  {
   "cell_type": "code",
   "execution_count": 6,
   "outputs": [
    {
     "data": {
      "text/plain": "0.0004091*x**6 - 0.01476*x**5 + 0.1687*x**4 - 0.7526*x**3 + 1.085*x**2 - 0.01436*x + 0.3686",
      "text/latex": "$\\displaystyle 0.0004091 x^{6} - 0.01476 x^{5} + 0.1687 x^{4} - 0.7526 x^{3} + 1.085 x^{2} - 0.01436 x + 0.3686$"
     },
     "execution_count": 6,
     "metadata": {},
     "output_type": "execute_result"
    }
   ],
   "source": [
    "interpolator.interpolation_result.n(4).expand()\n"
   ],
   "metadata": {
    "collapsed": false,
    "pycharm": {
     "name": "#%%\n"
    }
   }
  },
  {
   "cell_type": "code",
   "execution_count": 7,
   "outputs": [
    {
     "data": {
      "text/plain": "<Figure size 432x288 with 1 Axes>",
      "image/png": "[encoded data removed]"
     },
     "metadata": {
      "needs_background": "light"
     },
     "output_type": "display_data"
    }
   ],
   "source": [
    "make_plot(interpolator)"
   ],
   "metadata": {
    "collapsed": false,
    "pycharm": {
     "name": "#%%\n"
    }
   }
  },
  {
   "cell_type": "code",
   "execution_count": 8,
   "outputs": [
    {
     "data": {
      "text/plain": "1",
      "text/latex": "$\\displaystyle 1$"
     },
     "execution_count": 8,
     "metadata": {},
     "output_type": "execute_result"
    }
   ],
   "source": [
    "interpolator.M_np1"
   ],
   "metadata": {
    "collapsed": false,
    "pycharm": {
     "name": "#%%\n"
    }
   }
  },
  {
   "cell_type": "code",
   "execution_count": 9,
   "outputs": [
    {
     "data": {
      "text/plain": "Abs((x - 6)*(x - 31/6)*(x - 13/3)*(x - 7/2)*(x - 8/3)*(x - 11/6)*(x - 1))/5040",
      "text/latex": "$\\displaystyle \\frac{\\left|{\\left(x - 6\\right) \\left(x - \\frac{31}{6}\\right) \\left(x - \\frac{13}{3}\\right) \\left(x - \\frac{7}{2}\\right) \\left(x - \\frac{8}{3}\\right) \\left(x - \\frac{11}{6}\\right) \\left(x - 1\\right)}\\right|}{5040}$"
     },
     "execution_count": 9,
     "metadata": {},
     "output_type": "execute_result"
    }
   ],
   "source": [
    "interpolator.max_error"
   ],
   "metadata": {
    "collapsed": false,
    "pycharm": {
     "name": "#%%\n"
    }
   }
  },
  {
   "cell_type": "code",
   "execution_count": 10,
   "outputs": [
    {
     "data": {
      "text/plain": "Abs((6/5 - x/5)*(31/25 - 6*x/25)*(13/10 - 3*x/10)*(7/5 - 2*x/5)*(8/5 - 3*x/5)*(11/5 - 6*x/5)*sin(1) + (36/25 - 6*x/25)*(31/20 - 3*x/10)*(26/15 - 2*x/5)*(21/10 - 3*x/5)*(16/5 - 6*x/5)*(6*x/5 - 6/5)*sin(11/6) + (9/5 - 3*x/10)*(31/15 - 2*x/5)*(13/5 - 3*x/5)*(21/5 - 6*x/5)*(3*x/5 - 3/5)*(6*x/5 - 11/5)*sin(8/3) + (12/5 - 2*x/5)*(31/10 - 3*x/5)*(26/5 - 6*x/5)*(2*x/5 - 2/5)*(3*x/5 - 11/10)*(6*x/5 - 16/5)*sin(7/2) + (18/5 - 3*x/5)*(31/5 - 6*x/5)*(3*x/10 - 3/10)*(2*x/5 - 11/15)*(3*x/5 - 8/5)*(6*x/5 - 21/5)*sin(13/3) + (36/5 - 6*x/5)*(6*x/25 - 6/25)*(3*x/10 - 11/20)*(2*x/5 - 16/15)*(3*x/5 - 21/10)*(6*x/5 - 26/5)*sin(31/6) + (x/5 - 1/5)*(6*x/25 - 11/25)*(3*x/10 - 4/5)*(2*x/5 - 7/5)*(3*x/5 - 13/5)*(6*x/5 - 31/5)*sin(6) - sin(x))",
      "text/latex": "$\\displaystyle \\left|{\\left(\\frac{6}{5} - \\frac{x}{5}\\right) \\left(\\frac{31}{25} - \\frac{6 x}{25}\\right) \\left(\\frac{13}{10} - \\frac{3 x}{10}\\right) \\left(\\frac{7}{5} - \\frac{2 x}{5}\\right) \\left(\\frac{8}{5} - \\frac{3 x}{5}\\right) \\left(\\frac{11}{5} - \\frac{6 x}{5}\\right) \\sin{\\left(1 \\right)} + \\left(\\frac{36}{25} - \\frac{6 x}{25}\\right) \\left(\\frac{31}{20} - \\frac{3 x}{10}\\right) \\left(\\frac{26}{15} - \\frac{2 x}{5}\\right) \\left(\\frac{21}{10} - \\frac{3 x}{5}\\right) \\left(\\frac{16}{5} - \\frac{6 x}{5}\\right) \\left(\\frac{6 x}{5} - \\frac{6}{5}\\right) \\sin{\\left(\\frac{11}{6} \\right)} + \\left(\\frac{9}{5} - \\frac{3 x}{10}\\right) \\left(\\frac{31}{15} - \\frac{2 x}{5}\\right) \\left(\\frac{13}{5} - \\frac{3 x}{5}\\right) \\left(\\frac{21}{5} - \\frac{6 x}{5}\\right) \\left(\\frac{3 x}{5} - \\frac{3}{5}\\right) \\left(\\frac{6 x}{5} - \\frac{11}{5}\\right) \\sin{\\left(\\frac{8}{3} \\right)} + \\left(\\frac{12}{5} - \\frac{2 x}{5}\\right) \\left(\\frac{31}{10} - \\frac{3 x}{5}\\right) \\left(\\frac{26}{5} - \\frac{6 x}{5}\\right) \\left(\\frac{2 x}{5} - \\frac{2}{5}\\right) \\left(\\frac{3 x}{5} - \\frac{11}{10}\\right) \\left(\\frac{6 x}{5} - \\frac{16}{5}\\right) \\sin{\\left(\\frac{7}{2} \\right)} + \\left(\\frac{18}{5} - \\frac{3 x}{5}\\right) \\left(\\frac{31}{5} - \\frac{6 x}{5}\\right) \\left(\\frac{3 x}{10} - \\frac{3}{10}\\right) \\left(\\frac{2 x}{5} - \\frac{11}{15}\\right) \\left(\\frac{3 x}{5} - \\frac{8}{5}\\right) \\left(\\frac{6 x}{5} - \\frac{21}{5}\\right) \\sin{\\left(\\frac{13}{3} \\right)} + \\left(\\frac{36}{5} - \\frac{6 x}{5}\\right) \\left(\\frac{6 x}{25} - \\frac{6}{25}\\right) \\left(\\frac{3 x}{10} - \\frac{11}{20}\\right) \\left(\\frac{2 x}{5} - \\frac{16}{15}\\right) \\left(\\frac{3 x}{5} - \\frac{21}{10}\\right) \\left(\\frac{6 x}{5} - \\frac{26}{5}\\right) \\sin{\\left(\\frac{31}{6} \\right)} + \\left(\\frac{x}{5} - \\frac{1}{5}\\right) \\left(\\frac{6 x}{25} - \\frac{11}{25}\\right) \\left(\\frac{3 x}{10} - \\frac{4}{5}\\right) \\left(\\frac{2 x}{5} - \\frac{7}{5}\\right) \\left(\\frac{3 x}{5} - \\frac{13}{5}\\right) \\left(\\frac{6 x}{5} - \\frac{31}{5}\\right) \\sin{\\left(6 \\right)} - \\sin{\\left(x \\right)}}\\right|$"
     },
     "execution_count": 10,
     "metadata": {},
     "output_type": "execute_result"
    }
   ],
   "source": [
    "interpolator.real_error"
   ],
   "metadata": {
    "collapsed": false,
    "pycharm": {
     "name": "#%%\n"
    }
   }
  },
  {
   "cell_type": "code",
   "execution_count": 11,
   "outputs": [
    {
     "data": {
      "text/plain": "True"
     },
     "execution_count": 11,
     "metadata": {},
     "output_type": "execute_result"
    }
   ],
   "source": [
    "compare_errors(f'results {n}.txt', interpolator, 1000)"
   ],
   "metadata": {
    "collapsed": false,
    "pycharm": {
     "name": "#%%\n"
    }
   }
  }
 ],
 "metadata": {
  "kernelspec": {
   "name": "pycharm-10b54cab",
   "language": "python",
   "display_name": "PyCharm (tm jup)"
  },
  "language_info": {
   "codemirror_mode": {
    "name": "ipython",
    "version": 2
   },
   "file_extension": ".py",
   "mimetype": "text/x-python",
   "name": "python",
   "nbconvert_exporter": "python",
   "pygments_lexer": "ipython2",
   "version": "2.7.6"
  }
 },
 "nbformat": 4,
 "nbformat_minor": 0
}