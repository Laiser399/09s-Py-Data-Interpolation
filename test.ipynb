{
 "cells": [
  {
   "cell_type": "code",
   "execution_count": 188,
   "outputs": [],
   "source": [
    "from sympy import \\\n",
    "    symbols, S, \\\n",
    "    sin, Mul, factorial, Abs, \\\n",
    "    diff, solve\n",
    "import numpy as np\n",
    "import matplotlib.pyplot as plt"
   ],
   "metadata": {
    "collapsed": false,
    "pycharm": {
     "name": "#%%\n"
    }
   }
  },
  {
   "cell_type": "code",
   "execution_count": 189,
   "metadata": {
    "collapsed": true
   },
   "outputs": [],
   "source": [
    "x = symbols('x')\n",
    "n = S(3)\n",
    "points_count = n + 1\n",
    "a, b = S(1), S(6)\n",
    "f = sin(x)\n",
    "\n",
    "delta = (b - a) / n\n",
    "x_arr = [(a + delta * i) for i in range(n + 1)]\n",
    "y_arr = [sin(x_i) for x_i in x_arr]"
   ]
  },
  {
   "cell_type": "code",
   "execution_count": 190,
   "outputs": [
    {
     "data": {
      "text/plain": "[1, 8/3, 13/3, 6]"
     },
     "execution_count": 190,
     "metadata": {},
     "output_type": "execute_result"
    }
   ],
   "source": [
    "x_arr"
   ],
   "metadata": {
    "collapsed": false,
    "pycharm": {
     "name": "#%%\n"
    }
   }
  },
  {
   "cell_type": "code",
   "execution_count": 191,
   "outputs": [
    {
     "data": {
      "text/plain": "[sin(1), sin(8/3), sin(13/3), sin(6)]"
     },
     "execution_count": 191,
     "metadata": {},
     "output_type": "execute_result"
    }
   ],
   "source": [
    "y_arr"
   ],
   "metadata": {
    "collapsed": false,
    "pycharm": {
     "name": "#%%\n"
    }
   }
  },
  {
   "cell_type": "code",
   "execution_count": 192,
   "outputs": [
    {
     "data": {
      "text/plain": "(6/5 - x/5)*(13/10 - 3*x/10)*(8/5 - 3*x/5)*sin(1) + (9/5 - 3*x/10)*(13/5 - 3*x/5)*(3*x/5 - 3/5)*sin(8/3) + (18/5 - 3*x/5)*(3*x/10 - 3/10)*(3*x/5 - 8/5)*sin(13/3) + (x/5 - 1/5)*(3*x/10 - 4/5)*(3*x/5 - 13/5)*sin(6)",
      "text/latex": "$\\displaystyle \\left(\\frac{6}{5} - \\frac{x}{5}\\right) \\left(\\frac{13}{10} - \\frac{3 x}{10}\\right) \\left(\\frac{8}{5} - \\frac{3 x}{5}\\right) \\sin{\\left(1 \\right)} + \\left(\\frac{9}{5} - \\frac{3 x}{10}\\right) \\left(\\frac{13}{5} - \\frac{3 x}{5}\\right) \\left(\\frac{3 x}{5} - \\frac{3}{5}\\right) \\sin{\\left(\\frac{8}{3} \\right)} + \\left(\\frac{18}{5} - \\frac{3 x}{5}\\right) \\left(\\frac{3 x}{10} - \\frac{3}{10}\\right) \\left(\\frac{3 x}{5} - \\frac{8}{5}\\right) \\sin{\\left(\\frac{13}{3} \\right)} + \\left(\\frac{x}{5} - \\frac{1}{5}\\right) \\left(\\frac{3 x}{10} - \\frac{4}{5}\\right) \\left(\\frac{3 x}{5} - \\frac{13}{5}\\right) \\sin{\\left(6 \\right)}$"
     },
     "execution_count": 192,
     "metadata": {},
     "output_type": "execute_result"
    }
   ],
   "source": [
    "def make_l(i):\n",
    "    fractions = [(x - x_arr[j]) / (x_arr[i] - x_arr[j])\n",
    "                 for j in range(points_count)\n",
    "                 if i != j]\n",
    "    return Mul(*fractions)\n",
    "\n",
    "sum_elements = [y_arr[i] * make_l(i) for i in range(points_count)]\n",
    "interpolation_result = sum(sum_elements)\n",
    "\n",
    "interpolation_result"
   ],
   "metadata": {
    "collapsed": false,
    "pycharm": {
     "name": "#%%\n"
    }
   }
  },
  {
   "cell_type": "code",
   "execution_count": 193,
   "outputs": [
    {
     "data": {
      "text/plain": "0.1094*x**3 - 1.055*x**2 + 2.46*x - 0.6728",
      "text/latex": "$\\displaystyle 0.1094 x^{3} - 1.055 x^{2} + 2.46 x - 0.6728$"
     },
     "execution_count": 193,
     "metadata": {},
     "output_type": "execute_result"
    }
   ],
   "source": [
    "interpolation_result.n(4).expand()"
   ],
   "metadata": {
    "collapsed": false,
    "pycharm": {
     "name": "#%%\n"
    }
   }
  },
  {
   "cell_type": "code",
   "execution_count": 208,
   "outputs": [
    {
     "data": {
      "text/plain": "<Figure size 432x288 with 1 Axes>",
      "image/png": "[encoded data removed]"
     },
     "metadata": {
      "needs_background": "light"
     },
     "output_type": "display_data"
    }
   ],
   "source": [
    "x_grid = np.arange(a, b, 0.1)\n",
    "interpolation_result_grid = np.array([interpolation_result.subs(x, x_arg).n(4) for x_arg in x_grid])\n",
    "f_grid = np.array([f.subs(x, x_arg) for x_arg in x_grid])\n",
    "\n",
    "plt.plot(x_grid, f_grid, color='orange')\n",
    "plt.plot(x_grid, interpolation_result_grid, color='blue')\n",
    "plt.grid();"
   ],
   "metadata": {
    "collapsed": false,
    "pycharm": {
     "name": "#%%\n"
    }
   }
  },
  {
   "cell_type": "code",
   "execution_count": 195,
   "outputs": [
    {
     "data": {
      "text/plain": "1",
      "text/latex": "$\\displaystyle 1$"
     },
     "execution_count": 195,
     "metadata": {},
     "output_type": "execute_result"
    }
   ],
   "source": [
    "df_np1 = diff(f, x, n + 1)\n",
    "df_np2 = diff(df_np1, x)\n",
    "\n",
    "res = solve(df_np2, x)\n",
    "res = [x for x in res if a <= x <= b]\n",
    "res.append(a)\n",
    "res.append(b)\n",
    "\n",
    "M_np1 = max([Abs(df_np1.subs(x, r)) for r in res])\n",
    "\n",
    "M_np1"
   ],
   "metadata": {
    "collapsed": false,
    "pycharm": {
     "name": "#%%\n"
    }
   }
  },
  {
   "cell_type": "code",
   "execution_count": 196,
   "outputs": [
    {
     "data": {
      "text/plain": "Abs((x - 6)*(x - 13/3)*(x - 8/3)*(x - 1))/24",
      "text/latex": "$\\displaystyle \\frac{\\left|{\\left(x - 6\\right) \\left(x - \\frac{13}{3}\\right) \\left(x - \\frac{8}{3}\\right) \\left(x - 1\\right)}\\right|}{24}$"
     },
     "execution_count": 196,
     "metadata": {},
     "output_type": "execute_result"
    }
   ],
   "source": [
    "multiply_elements = [x - x_i for x_i in x_arr]\n",
    "max_error = M_np1 / factorial(n + 1) * Abs(Mul(*multiply_elements))\n",
    "\n",
    "max_error"
   ],
   "metadata": {
    "collapsed": false,
    "pycharm": {
     "name": "#%%\n"
    }
   }
  },
  {
   "cell_type": "code",
   "execution_count": 197,
   "outputs": [
    {
     "data": {
      "text/plain": "Abs((6/5 - x/5)*(13/10 - 3*x/10)*(8/5 - 3*x/5)*sin(1) + (9/5 - 3*x/10)*(13/5 - 3*x/5)*(3*x/5 - 3/5)*sin(8/3) + (18/5 - 3*x/5)*(3*x/10 - 3/10)*(3*x/5 - 8/5)*sin(13/3) + (x/5 - 1/5)*(3*x/10 - 4/5)*(3*x/5 - 13/5)*sin(6) - sin(x))",
      "text/latex": "$\\displaystyle \\left|{\\left(\\frac{6}{5} - \\frac{x}{5}\\right) \\left(\\frac{13}{10} - \\frac{3 x}{10}\\right) \\left(\\frac{8}{5} - \\frac{3 x}{5}\\right) \\sin{\\left(1 \\right)} + \\left(\\frac{9}{5} - \\frac{3 x}{10}\\right) \\left(\\frac{13}{5} - \\frac{3 x}{5}\\right) \\left(\\frac{3 x}{5} - \\frac{3}{5}\\right) \\sin{\\left(\\frac{8}{3} \\right)} + \\left(\\frac{18}{5} - \\frac{3 x}{5}\\right) \\left(\\frac{3 x}{10} - \\frac{3}{10}\\right) \\left(\\frac{3 x}{5} - \\frac{8}{5}\\right) \\sin{\\left(\\frac{13}{3} \\right)} + \\left(\\frac{x}{5} - \\frac{1}{5}\\right) \\left(\\frac{3 x}{10} - \\frac{4}{5}\\right) \\left(\\frac{3 x}{5} - \\frac{13}{5}\\right) \\sin{\\left(6 \\right)} - \\sin{\\left(x \\right)}}\\right|$"
     },
     "execution_count": 197,
     "metadata": {},
     "output_type": "execute_result"
    }
   ],
   "source": [
    "real_error = Abs(interpolation_result - f)\n",
    "\n",
    "real_error"
   ],
   "metadata": {
    "collapsed": false,
    "pycharm": {
     "name": "#%%\n"
    }
   }
  },
  {
   "cell_type": "code",
   "execution_count": 209,
   "outputs": [
    {
     "data": {
      "text/plain": "True"
     },
     "execution_count": 209,
     "metadata": {},
     "output_type": "execute_result"
    }
   ],
   "source": [
    "steps_count = 1000\n",
    "tm_delta = (b - a) / steps_count\n",
    "isOk = True\n",
    "with open(f'results {n}.txt', 'w') as file:\n",
    "    for i in range(steps_count):\n",
    "        x_arg = a + tm_delta * i\n",
    "        real_error_res = real_error.subs(x, x_arg).n(10)\n",
    "        max_error_res = max_error.subs(x, x_arg).n(10)\n",
    "        if real_error_res <= max_error_res:\n",
    "            file.write(f'ok: {real_error_res}\\t<=\\t{max_error_res}\\n')\n",
    "        else:\n",
    "            isOk = False\n",
    "            file.write(f'not ok: {real_error_res}\\t>\\t{max_error_res}\\n')\n",
    "\n",
    "isOk"
   ],
   "metadata": {
    "collapsed": false,
    "pycharm": {
     "name": "#%%\n"
    }
   }
  }
 ],
 "metadata": {
  "kernelspec": {
   "name": "pycharm-10b54cab",
   "language": "python",
   "display_name": "PyCharm (tm jup)"
  },
  "language_info": {
   "codemirror_mode": {
    "name": "ipython",
    "version": 2
   },
   "file_extension": ".py",
   "mimetype": "text/x-python",
   "name": "python",
   "nbconvert_exporter": "python",
   "pygments_lexer": "ipython2",
   "version": "2.7.6"
  }
 },
 "nbformat": 4,
 "nbformat_minor": 0
}