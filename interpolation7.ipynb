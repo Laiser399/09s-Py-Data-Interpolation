{
 "cells": [
  {
   "cell_type": "code",
   "execution_count": 1,
   "outputs": [],
   "source": [
    "from LagrangeInterpolator import LagrangeInterpolator\n",
    "from common import make_plot, compare_errors"
   ],
   "metadata": {
    "collapsed": false,
    "pycharm": {
     "name": "#%%\n"
    }
   }
  },
  {
   "cell_type": "code",
   "execution_count": 2,
   "metadata": {
    "collapsed": true
   },
   "outputs": [],
   "source": [
    "n = 7\n",
    "from const import a, b, x, f\n",
    "\n",
    "interpolator = LagrangeInterpolator(n, a, b, f, x)"
   ]
  },
  {
   "cell_type": "code",
   "execution_count": 3,
   "outputs": [
    {
     "data": {
      "text/plain": "[1, 12/7, 17/7, 22/7, 27/7, 32/7, 37/7, 6]"
     },
     "execution_count": 3,
     "metadata": {},
     "output_type": "execute_result"
    }
   ],
   "source": [
    "interpolator.x_arr"
   ],
   "metadata": {
    "collapsed": false,
    "pycharm": {
     "name": "#%%\n"
    }
   }
  },
  {
   "cell_type": "code",
   "execution_count": 4,
   "outputs": [
    {
     "data": {
      "text/plain": "[sin(1),\n sin(12/7),\n sin(17/7),\n sin(22/7),\n sin(27/7),\n sin(32/7),\n sin(37/7),\n sin(6)]"
     },
     "execution_count": 4,
     "metadata": {},
     "output_type": "execute_result"
    }
   ],
   "source": [
    "interpolator.y_arr"
   ],
   "metadata": {
    "collapsed": false,
    "pycharm": {
     "name": "#%%\n"
    }
   }
  },
  {
   "cell_type": "code",
   "execution_count": 5,
   "outputs": [
    {
     "data": {
      "text/plain": "(6/5 - x/5)*(37/30 - 7*x/30)*(32/25 - 7*x/25)*(27/20 - 7*x/20)*(22/15 - 7*x/15)*(17/10 - 7*x/10)*(12/5 - 7*x/5)*sin(1) + (7/5 - 7*x/30)*(37/25 - 7*x/25)*(8/5 - 7*x/20)*(9/5 - 7*x/15)*(11/5 - 7*x/10)*(17/5 - 7*x/5)*(7*x/5 - 7/5)*sin(12/7) + (42/25 - 7*x/25)*(37/20 - 7*x/20)*(32/15 - 7*x/15)*(27/10 - 7*x/10)*(22/5 - 7*x/5)*(7*x/10 - 7/10)*(7*x/5 - 12/5)*sin(17/7) + (21/10 - 7*x/20)*(37/15 - 7*x/15)*(16/5 - 7*x/10)*(27/5 - 7*x/5)*(7*x/15 - 7/15)*(7*x/10 - 6/5)*(7*x/5 - 17/5)*sin(22/7) + (14/5 - 7*x/15)*(37/10 - 7*x/10)*(32/5 - 7*x/5)*(7*x/20 - 7/20)*(7*x/15 - 4/5)*(7*x/10 - 17/10)*(7*x/5 - 22/5)*sin(27/7) + (21/5 - 7*x/10)*(37/5 - 7*x/5)*(7*x/25 - 7/25)*(7*x/20 - 3/5)*(7*x/15 - 17/15)*(7*x/10 - 11/5)*(7*x/5 - 27/5)*sin(32/7) + (42/5 - 7*x/5)*(7*x/30 - 7/30)*(7*x/25 - 12/25)*(7*x/20 - 17/20)*(7*x/15 - 22/15)*(7*x/10 - 27/10)*(7*x/5 - 32/5)*sin(37/7) + (x/5 - 1/5)*(7*x/30 - 2/5)*(7*x/25 - 17/25)*(7*x/20 - 11/10)*(7*x/15 - 9/5)*(7*x/10 - 16/5)*(7*x/5 - 37/5)*sin(6)",
      "text/latex": "$\\displaystyle \\left(\\frac{6}{5} - \\frac{x}{5}\\right) \\left(\\frac{37}{30} - \\frac{7 x}{30}\\right) \\left(\\frac{32}{25} - \\frac{7 x}{25}\\right) \\left(\\frac{27}{20} - \\frac{7 x}{20}\\right) \\left(\\frac{22}{15} - \\frac{7 x}{15}\\right) \\left(\\frac{17}{10} - \\frac{7 x}{10}\\right) \\left(\\frac{12}{5} - \\frac{7 x}{5}\\right) \\sin{\\left(1 \\right)} + \\left(\\frac{7}{5} - \\frac{7 x}{30}\\right) \\left(\\frac{37}{25} - \\frac{7 x}{25}\\right) \\left(\\frac{8}{5} - \\frac{7 x}{20}\\right) \\left(\\frac{9}{5} - \\frac{7 x}{15}\\right) \\left(\\frac{11}{5} - \\frac{7 x}{10}\\right) \\left(\\frac{17}{5} - \\frac{7 x}{5}\\right) \\left(\\frac{7 x}{5} - \\frac{7}{5}\\right) \\sin{\\left(\\frac{12}{7} \\right)} + \\left(\\frac{42}{25} - \\frac{7 x}{25}\\right) \\left(\\frac{37}{20} - \\frac{7 x}{20}\\right) \\left(\\frac{32}{15} - \\frac{7 x}{15}\\right) \\left(\\frac{27}{10} - \\frac{7 x}{10}\\right) \\left(\\frac{22}{5} - \\frac{7 x}{5}\\right) \\left(\\frac{7 x}{10} - \\frac{7}{10}\\right) \\left(\\frac{7 x}{5} - \\frac{12}{5}\\right) \\sin{\\left(\\frac{17}{7} \\right)} + \\left(\\frac{21}{10} - \\frac{7 x}{20}\\right) \\left(\\frac{37}{15} - \\frac{7 x}{15}\\right) \\left(\\frac{16}{5} - \\frac{7 x}{10}\\right) \\left(\\frac{27}{5} - \\frac{7 x}{5}\\right) \\left(\\frac{7 x}{15} - \\frac{7}{15}\\right) \\left(\\frac{7 x}{10} - \\frac{6}{5}\\right) \\left(\\frac{7 x}{5} - \\frac{17}{5}\\right) \\sin{\\left(\\frac{22}{7} \\right)} + \\left(\\frac{14}{5} - \\frac{7 x}{15}\\right) \\left(\\frac{37}{10} - \\frac{7 x}{10}\\right) \\left(\\frac{32}{5} - \\frac{7 x}{5}\\right) \\left(\\frac{7 x}{20} - \\frac{7}{20}\\right) \\left(\\frac{7 x}{15} - \\frac{4}{5}\\right) \\left(\\frac{7 x}{10} - \\frac{17}{10}\\right) \\left(\\frac{7 x}{5} - \\frac{22}{5}\\right) \\sin{\\left(\\frac{27}{7} \\right)} + \\left(\\frac{21}{5} - \\frac{7 x}{10}\\right) \\left(\\frac{37}{5} - \\frac{7 x}{5}\\right) \\left(\\frac{7 x}{25} - \\frac{7}{25}\\right) \\left(\\frac{7 x}{20} - \\frac{3}{5}\\right) \\left(\\frac{7 x}{15} - \\frac{17}{15}\\right) \\left(\\frac{7 x}{10} - \\frac{11}{5}\\right) \\left(\\frac{7 x}{5} - \\frac{27}{5}\\right) \\sin{\\left(\\frac{32}{7} \\right)} + \\left(\\frac{42}{5} - \\frac{7 x}{5}\\right) \\left(\\frac{7 x}{30} - \\frac{7}{30}\\right) \\left(\\frac{7 x}{25} - \\frac{12}{25}\\right) \\left(\\frac{7 x}{20} - \\frac{17}{20}\\right) \\left(\\frac{7 x}{15} - \\frac{22}{15}\\right) \\left(\\frac{7 x}{10} - \\frac{27}{10}\\right) \\left(\\frac{7 x}{5} - \\frac{32}{5}\\right) \\sin{\\left(\\frac{37}{7} \\right)} + \\left(\\frac{x}{5} - \\frac{1}{5}\\right) \\left(\\frac{7 x}{30} - \\frac{2}{5}\\right) \\left(\\frac{7 x}{25} - \\frac{17}{25}\\right) \\left(\\frac{7 x}{20} - \\frac{11}{10}\\right) \\left(\\frac{7 x}{15} - \\frac{9}{5}\\right) \\left(\\frac{7 x}{10} - \\frac{16}{5}\\right) \\left(\\frac{7 x}{5} - \\frac{37}{5}\\right) \\sin{\\left(6 \\right)}$"
     },
     "execution_count": 5,
     "metadata": {},
     "output_type": "execute_result"
    }
   ],
   "source": [
    "interpolator.interpolation_result"
   ],
   "metadata": {
    "collapsed": false,
    "pycharm": {
     "name": "#%%\n"
    }
   }
  },
  {
   "cell_type": "code",
   "execution_count": 6,
   "outputs": [
    {
     "data": {
      "text/plain": "0.0001602*x**7 - 0.003494*x**6 + 0.02478*x**5 - 0.04541*x**4 - 0.0918*x**3 - 0.06641*x**2 + 1.031*x - 0.00293",
      "text/latex": "$\\displaystyle 0.0001602 x^{7} - 0.003494 x^{6} + 0.02478 x^{5} - 0.04541 x^{4} - 0.0918 x^{3} - 0.06641 x^{2} + 1.031 x - 0.00293$"
     },
     "execution_count": 6,
     "metadata": {},
     "output_type": "execute_result"
    }
   ],
   "source": [
    "interpolator.interpolation_result.n(4).expand()\n"
   ],
   "metadata": {
    "collapsed": false,
    "pycharm": {
     "name": "#%%\n"
    }
   }
  },
  {
   "cell_type": "code",
   "execution_count": 7,
   "outputs": [
    {
     "data": {
      "text/plain": "<Figure size 432x288 with 1 Axes>",
      "image/png": "[encoded data removed]"
     },
     "metadata": {
      "needs_background": "light"
     },
     "output_type": "display_data"
    }
   ],
   "source": [
    "make_plot(interpolator)"
   ],
   "metadata": {
    "collapsed": false,
    "pycharm": {
     "name": "#%%\n"
    }
   }
  },
  {
   "cell_type": "code",
   "execution_count": 8,
   "outputs": [
    {
     "data": {
      "text/plain": "1",
      "text/latex": "$\\displaystyle 1$"
     },
     "execution_count": 8,
     "metadata": {},
     "output_type": "execute_result"
    }
   ],
   "source": [
    "interpolator.M_np1"
   ],
   "metadata": {
    "collapsed": false,
    "pycharm": {
     "name": "#%%\n"
    }
   }
  },
  {
   "cell_type": "code",
   "execution_count": 9,
   "outputs": [
    {
     "data": {
      "text/plain": "Abs((x - 6)*(x - 37/7)*(x - 32/7)*(x - 27/7)*(x - 22/7)*(x - 17/7)*(x - 12/7)*(x - 1))/40320",
      "text/latex": "$\\displaystyle \\frac{\\left|{\\left(x - 6\\right) \\left(x - \\frac{37}{7}\\right) \\left(x - \\frac{32}{7}\\right) \\left(x - \\frac{27}{7}\\right) \\left(x - \\frac{22}{7}\\right) \\left(x - \\frac{17}{7}\\right) \\left(x - \\frac{12}{7}\\right) \\left(x - 1\\right)}\\right|}{40320}$"
     },
     "execution_count": 9,
     "metadata": {},
     "output_type": "execute_result"
    }
   ],
   "source": [
    "interpolator.max_error"
   ],
   "metadata": {
    "collapsed": false,
    "pycharm": {
     "name": "#%%\n"
    }
   }
  },
  {
   "cell_type": "code",
   "execution_count": 10,
   "outputs": [
    {
     "data": {
      "text/plain": "Abs((6/5 - x/5)*(37/30 - 7*x/30)*(32/25 - 7*x/25)*(27/20 - 7*x/20)*(22/15 - 7*x/15)*(17/10 - 7*x/10)*(12/5 - 7*x/5)*sin(1) + (7/5 - 7*x/30)*(37/25 - 7*x/25)*(8/5 - 7*x/20)*(9/5 - 7*x/15)*(11/5 - 7*x/10)*(17/5 - 7*x/5)*(7*x/5 - 7/5)*sin(12/7) + (42/25 - 7*x/25)*(37/20 - 7*x/20)*(32/15 - 7*x/15)*(27/10 - 7*x/10)*(22/5 - 7*x/5)*(7*x/10 - 7/10)*(7*x/5 - 12/5)*sin(17/7) + (21/10 - 7*x/20)*(37/15 - 7*x/15)*(16/5 - 7*x/10)*(27/5 - 7*x/5)*(7*x/15 - 7/15)*(7*x/10 - 6/5)*(7*x/5 - 17/5)*sin(22/7) + (14/5 - 7*x/15)*(37/10 - 7*x/10)*(32/5 - 7*x/5)*(7*x/20 - 7/20)*(7*x/15 - 4/5)*(7*x/10 - 17/10)*(7*x/5 - 22/5)*sin(27/7) + (21/5 - 7*x/10)*(37/5 - 7*x/5)*(7*x/25 - 7/25)*(7*x/20 - 3/5)*(7*x/15 - 17/15)*(7*x/10 - 11/5)*(7*x/5 - 27/5)*sin(32/7) + (42/5 - 7*x/5)*(7*x/30 - 7/30)*(7*x/25 - 12/25)*(7*x/20 - 17/20)*(7*x/15 - 22/15)*(7*x/10 - 27/10)*(7*x/5 - 32/5)*sin(37/7) + (x/5 - 1/5)*(7*x/30 - 2/5)*(7*x/25 - 17/25)*(7*x/20 - 11/10)*(7*x/15 - 9/5)*(7*x/10 - 16/5)*(7*x/5 - 37/5)*sin(6) - sin(x))",
      "text/latex": "$\\displaystyle \\left|{\\left(\\frac{6}{5} - \\frac{x}{5}\\right) \\left(\\frac{37}{30} - \\frac{7 x}{30}\\right) \\left(\\frac{32}{25} - \\frac{7 x}{25}\\right) \\left(\\frac{27}{20} - \\frac{7 x}{20}\\right) \\left(\\frac{22}{15} - \\frac{7 x}{15}\\right) \\left(\\frac{17}{10} - \\frac{7 x}{10}\\right) \\left(\\frac{12}{5} - \\frac{7 x}{5}\\right) \\sin{\\left(1 \\right)} + \\left(\\frac{7}{5} - \\frac{7 x}{30}\\right) \\left(\\frac{37}{25} - \\frac{7 x}{25}\\right) \\left(\\frac{8}{5} - \\frac{7 x}{20}\\right) \\left(\\frac{9}{5} - \\frac{7 x}{15}\\right) \\left(\\frac{11}{5} - \\frac{7 x}{10}\\right) \\left(\\frac{17}{5} - \\frac{7 x}{5}\\right) \\left(\\frac{7 x}{5} - \\frac{7}{5}\\right) \\sin{\\left(\\frac{12}{7} \\right)} + \\left(\\frac{42}{25} - \\frac{7 x}{25}\\right) \\left(\\frac{37}{20} - \\frac{7 x}{20}\\right) \\left(\\frac{32}{15} - \\frac{7 x}{15}\\right) \\left(\\frac{27}{10} - \\frac{7 x}{10}\\right) \\left(\\frac{22}{5} - \\frac{7 x}{5}\\right) \\left(\\frac{7 x}{10} - \\frac{7}{10}\\right) \\left(\\frac{7 x}{5} - \\frac{12}{5}\\right) \\sin{\\left(\\frac{17}{7} \\right)} + \\left(\\frac{21}{10} - \\frac{7 x}{20}\\right) \\left(\\frac{37}{15} - \\frac{7 x}{15}\\right) \\left(\\frac{16}{5} - \\frac{7 x}{10}\\right) \\left(\\frac{27}{5} - \\frac{7 x}{5}\\right) \\left(\\frac{7 x}{15} - \\frac{7}{15}\\right) \\left(\\frac{7 x}{10} - \\frac{6}{5}\\right) \\left(\\frac{7 x}{5} - \\frac{17}{5}\\right) \\sin{\\left(\\frac{22}{7} \\right)} + \\left(\\frac{14}{5} - \\frac{7 x}{15}\\right) \\left(\\frac{37}{10} - \\frac{7 x}{10}\\right) \\left(\\frac{32}{5} - \\frac{7 x}{5}\\right) \\left(\\frac{7 x}{20} - \\frac{7}{20}\\right) \\left(\\frac{7 x}{15} - \\frac{4}{5}\\right) \\left(\\frac{7 x}{10} - \\frac{17}{10}\\right) \\left(\\frac{7 x}{5} - \\frac{22}{5}\\right) \\sin{\\left(\\frac{27}{7} \\right)} + \\left(\\frac{21}{5} - \\frac{7 x}{10}\\right) \\left(\\frac{37}{5} - \\frac{7 x}{5}\\right) \\left(\\frac{7 x}{25} - \\frac{7}{25}\\right) \\left(\\frac{7 x}{20} - \\frac{3}{5}\\right) \\left(\\frac{7 x}{15} - \\frac{17}{15}\\right) \\left(\\frac{7 x}{10} - \\frac{11}{5}\\right) \\left(\\frac{7 x}{5} - \\frac{27}{5}\\right) \\sin{\\left(\\frac{32}{7} \\right)} + \\left(\\frac{42}{5} - \\frac{7 x}{5}\\right) \\left(\\frac{7 x}{30} - \\frac{7}{30}\\right) \\left(\\frac{7 x}{25} - \\frac{12}{25}\\right) \\left(\\frac{7 x}{20} - \\frac{17}{20}\\right) \\left(\\frac{7 x}{15} - \\frac{22}{15}\\right) \\left(\\frac{7 x}{10} - \\frac{27}{10}\\right) \\left(\\frac{7 x}{5} - \\frac{32}{5}\\right) \\sin{\\left(\\frac{37}{7} \\right)} + \\left(\\frac{x}{5} - \\frac{1}{5}\\right) \\left(\\frac{7 x}{30} - \\frac{2}{5}\\right) \\left(\\frac{7 x}{25} - \\frac{17}{25}\\right) \\left(\\frac{7 x}{20} - \\frac{11}{10}\\right) \\left(\\frac{7 x}{15} - \\frac{9}{5}\\right) \\left(\\frac{7 x}{10} - \\frac{16}{5}\\right) \\left(\\frac{7 x}{5} - \\frac{37}{5}\\right) \\sin{\\left(6 \\right)} - \\sin{\\left(x \\right)}}\\right|$"
     },
     "execution_count": 10,
     "metadata": {},
     "output_type": "execute_result"
    }
   ],
   "source": [
    "interpolator.real_error"
   ],
   "metadata": {
    "collapsed": false,
    "pycharm": {
     "name": "#%%\n"
    }
   }
  },
  {
   "cell_type": "code",
   "execution_count": 11,
   "outputs": [
    {
     "data": {
      "text/plain": "True"
     },
     "execution_count": 11,
     "metadata": {},
     "output_type": "execute_result"
    }
   ],
   "source": [
    "compare_errors(f'results {n}.txt', interpolator, 1000)"
   ],
   "metadata": {
    "collapsed": false,
    "pycharm": {
     "name": "#%%\n"
    }
   }
  }
 ],
 "metadata": {
  "kernelspec": {
   "name": "pycharm-10b54cab",
   "language": "python",
   "display_name": "PyCharm (tm jup)"
  },
  "language_info": {
   "codemirror_mode": {
    "name": "ipython",
    "version": 2
   },
   "file_extension": ".py",
   "mimetype": "text/x-python",
   "name": "python",
   "nbconvert_exporter": "python",
   "pygments_lexer": "ipython2",
   "version": "2.7.6"
  }
 },
 "nbformat": 4,
 "nbformat_minor": 0
}