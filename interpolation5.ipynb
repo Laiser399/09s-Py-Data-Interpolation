{
 "cells": [
  {
   "cell_type": "code",
   "execution_count": 1,
   "outputs": [],
   "source": [
    "from LagrangeInterpolator import LagrangeInterpolator\n",
    "from common import make_plot, compare_errors"
   ],
   "metadata": {
    "collapsed": false,
    "pycharm": {
     "name": "#%%\n"
    }
   }
  },
  {
   "cell_type": "code",
   "execution_count": 2,
   "metadata": {
    "collapsed": true
   },
   "outputs": [],
   "source": [
    "n = 5\n",
    "from const import a, b, x, f\n",
    "\n",
    "interpolator = LagrangeInterpolator(n, a, b, f, x)"
   ]
  },
  {
   "cell_type": "code",
   "execution_count": 3,
   "outputs": [
    {
     "data": {
      "text/plain": "[1, 2, 3, 4, 5, 6]"
     },
     "execution_count": 3,
     "metadata": {},
     "output_type": "execute_result"
    }
   ],
   "source": [
    "interpolator.x_arr"
   ],
   "metadata": {
    "collapsed": false,
    "pycharm": {
     "name": "#%%\n"
    }
   }
  },
  {
   "cell_type": "code",
   "execution_count": 4,
   "outputs": [
    {
     "data": {
      "text/plain": "[sin(1), sin(2), sin(3), sin(4), sin(5), sin(6)]"
     },
     "execution_count": 4,
     "metadata": {},
     "output_type": "execute_result"
    }
   ],
   "source": [
    "interpolator.y_arr"
   ],
   "metadata": {
    "collapsed": false,
    "pycharm": {
     "name": "#%%\n"
    }
   }
  },
  {
   "cell_type": "code",
   "execution_count": 5,
   "outputs": [
    {
     "data": {
      "text/plain": "(6/5 - x/5)*(5/4 - x/4)*(4/3 - x/3)*(3/2 - x/2)*(2 - x)*sin(1) + (3/2 - x/4)*(5/3 - x/3)*(2 - x/2)*(3 - x)*(x - 1)*sin(2) + (2 - x/3)*(5/2 - x/2)*(4 - x)*(x/2 - 1/2)*(x - 2)*sin(3) + (3 - x/2)*(5 - x)*(x/3 - 1/3)*(x/2 - 1)*(x - 3)*sin(4) + (6 - x)*(x/4 - 1/4)*(x/3 - 2/3)*(x/2 - 3/2)*(x - 4)*sin(5) + (x/5 - 1/5)*(x/4 - 1/2)*(x/3 - 1)*(x/2 - 2)*(x - 5)*sin(6)",
      "text/latex": "$\\displaystyle \\left(\\frac{6}{5} - \\frac{x}{5}\\right) \\left(\\frac{5}{4} - \\frac{x}{4}\\right) \\left(\\frac{4}{3} - \\frac{x}{3}\\right) \\left(\\frac{3}{2} - \\frac{x}{2}\\right) \\left(2 - x\\right) \\sin{\\left(1 \\right)} + \\left(\\frac{3}{2} - \\frac{x}{4}\\right) \\left(\\frac{5}{3} - \\frac{x}{3}\\right) \\left(2 - \\frac{x}{2}\\right) \\left(3 - x\\right) \\left(x - 1\\right) \\sin{\\left(2 \\right)} + \\left(2 - \\frac{x}{3}\\right) \\left(\\frac{5}{2} - \\frac{x}{2}\\right) \\left(4 - x\\right) \\left(\\frac{x}{2} - \\frac{1}{2}\\right) \\left(x - 2\\right) \\sin{\\left(3 \\right)} + \\left(3 - \\frac{x}{2}\\right) \\left(5 - x\\right) \\left(\\frac{x}{3} - \\frac{1}{3}\\right) \\left(\\frac{x}{2} - 1\\right) \\left(x - 3\\right) \\sin{\\left(4 \\right)} + \\left(6 - x\\right) \\left(\\frac{x}{4} - \\frac{1}{4}\\right) \\left(\\frac{x}{3} - \\frac{2}{3}\\right) \\left(\\frac{x}{2} - \\frac{3}{2}\\right) \\left(x - 4\\right) \\sin{\\left(5 \\right)} + \\left(\\frac{x}{5} - \\frac{1}{5}\\right) \\left(\\frac{x}{4} - \\frac{1}{2}\\right) \\left(\\frac{x}{3} - 1\\right) \\left(\\frac{x}{2} - 2\\right) \\left(x - 5\\right) \\sin{\\left(6 \\right)}$"
     },
     "execution_count": 5,
     "metadata": {},
     "output_type": "execute_result"
    }
   ],
   "source": [
    "interpolator.interpolation_result"
   ],
   "metadata": {
    "collapsed": false,
    "pycharm": {
     "name": "#%%\n"
    }
   }
  },
  {
   "cell_type": "code",
   "execution_count": 6,
   "outputs": [
    {
     "data": {
      "text/plain": "-0.006325*x**5 + 0.09984*x**4 - 0.4696*x**3 + 0.4729*x**2 + 0.635*x + 0.1097",
      "text/latex": "$\\displaystyle - 0.006325 x^{5} + 0.09984 x^{4} - 0.4696 x^{3} + 0.4729 x^{2} + 0.635 x + 0.1097$"
     },
     "execution_count": 6,
     "metadata": {},
     "output_type": "execute_result"
    }
   ],
   "source": [
    "interpolator.interpolation_result.n(4).expand()\n"
   ],
   "metadata": {
    "collapsed": false,
    "pycharm": {
     "name": "#%%\n"
    }
   }
  },
  {
   "cell_type": "code",
   "execution_count": 7,
   "outputs": [
    {
     "data": {
      "text/plain": "<Figure size 432x288 with 1 Axes>",
      "image/png": "[encoded data removed]"
     },
     "metadata": {
      "needs_background": "light"
     },
     "output_type": "display_data"
    }
   ],
   "source": [
    "make_plot(interpolator)"
   ],
   "metadata": {
    "collapsed": false,
    "pycharm": {
     "name": "#%%\n"
    }
   }
  },
  {
   "cell_type": "code",
   "execution_count": 8,
   "outputs": [
    {
     "data": {
      "text/plain": "1",
      "text/latex": "$\\displaystyle 1$"
     },
     "execution_count": 8,
     "metadata": {},
     "output_type": "execute_result"
    }
   ],
   "source": [
    "interpolator.M_np1"
   ],
   "metadata": {
    "collapsed": false,
    "pycharm": {
     "name": "#%%\n"
    }
   }
  },
  {
   "cell_type": "code",
   "execution_count": 9,
   "outputs": [
    {
     "data": {
      "text/plain": "Abs((x - 6)*(x - 5)*(x - 4)*(x - 3)*(x - 2)*(x - 1))/720",
      "text/latex": "$\\displaystyle \\frac{\\left|{\\left(x - 6\\right) \\left(x - 5\\right) \\left(x - 4\\right) \\left(x - 3\\right) \\left(x - 2\\right) \\left(x - 1\\right)}\\right|}{720}$"
     },
     "execution_count": 9,
     "metadata": {},
     "output_type": "execute_result"
    }
   ],
   "source": [
    "interpolator.max_error"
   ],
   "metadata": {
    "collapsed": false,
    "pycharm": {
     "name": "#%%\n"
    }
   }
  },
  {
   "cell_type": "code",
   "execution_count": 10,
   "outputs": [
    {
     "data": {
      "text/plain": "Abs((6/5 - x/5)*(5/4 - x/4)*(4/3 - x/3)*(3/2 - x/2)*(2 - x)*sin(1) + (3/2 - x/4)*(5/3 - x/3)*(2 - x/2)*(3 - x)*(x - 1)*sin(2) + (2 - x/3)*(5/2 - x/2)*(4 - x)*(x/2 - 1/2)*(x - 2)*sin(3) + (3 - x/2)*(5 - x)*(x/3 - 1/3)*(x/2 - 1)*(x - 3)*sin(4) + (6 - x)*(x/4 - 1/4)*(x/3 - 2/3)*(x/2 - 3/2)*(x - 4)*sin(5) + (x/5 - 1/5)*(x/4 - 1/2)*(x/3 - 1)*(x/2 - 2)*(x - 5)*sin(6) - sin(x))",
      "text/latex": "$\\displaystyle \\left|{\\left(\\frac{6}{5} - \\frac{x}{5}\\right) \\left(\\frac{5}{4} - \\frac{x}{4}\\right) \\left(\\frac{4}{3} - \\frac{x}{3}\\right) \\left(\\frac{3}{2} - \\frac{x}{2}\\right) \\left(2 - x\\right) \\sin{\\left(1 \\right)} + \\left(\\frac{3}{2} - \\frac{x}{4}\\right) \\left(\\frac{5}{3} - \\frac{x}{3}\\right) \\left(2 - \\frac{x}{2}\\right) \\left(3 - x\\right) \\left(x - 1\\right) \\sin{\\left(2 \\right)} + \\left(2 - \\frac{x}{3}\\right) \\left(\\frac{5}{2} - \\frac{x}{2}\\right) \\left(4 - x\\right) \\left(\\frac{x}{2} - \\frac{1}{2}\\right) \\left(x - 2\\right) \\sin{\\left(3 \\right)} + \\left(3 - \\frac{x}{2}\\right) \\left(5 - x\\right) \\left(\\frac{x}{3} - \\frac{1}{3}\\right) \\left(\\frac{x}{2} - 1\\right) \\left(x - 3\\right) \\sin{\\left(4 \\right)} + \\left(6 - x\\right) \\left(\\frac{x}{4} - \\frac{1}{4}\\right) \\left(\\frac{x}{3} - \\frac{2}{3}\\right) \\left(\\frac{x}{2} - \\frac{3}{2}\\right) \\left(x - 4\\right) \\sin{\\left(5 \\right)} + \\left(\\frac{x}{5} - \\frac{1}{5}\\right) \\left(\\frac{x}{4} - \\frac{1}{2}\\right) \\left(\\frac{x}{3} - 1\\right) \\left(\\frac{x}{2} - 2\\right) \\left(x - 5\\right) \\sin{\\left(6 \\right)} - \\sin{\\left(x \\right)}}\\right|$"
     },
     "execution_count": 10,
     "metadata": {},
     "output_type": "execute_result"
    }
   ],
   "source": [
    "interpolator.real_error"
   ],
   "metadata": {
    "collapsed": false,
    "pycharm": {
     "name": "#%%\n"
    }
   }
  },
  {
   "cell_type": "code",
   "execution_count": 11,
   "outputs": [
    {
     "data": {
      "text/plain": "True"
     },
     "execution_count": 11,
     "metadata": {},
     "output_type": "execute_result"
    }
   ],
   "source": [
    "compare_errors(f'results {n}.txt', interpolator, 1000)"
   ],
   "metadata": {
    "collapsed": false,
    "pycharm": {
     "name": "#%%\n"
    }
   }
  }
 ],
 "metadata": {
  "kernelspec": {
   "name": "pycharm-10b54cab",
   "language": "python",
   "display_name": "PyCharm (tm jup)"
  },
  "language_info": {
   "codemirror_mode": {
    "name": "ipython",
    "version": 2
   },
   "file_extension": ".py",
   "mimetype": "text/x-python",
   "name": "python",
   "nbconvert_exporter": "python",
   "pygments_lexer": "ipython2",
   "version": "2.7.6"
  }
 },
 "nbformat": 4,
 "nbformat_minor": 0
}